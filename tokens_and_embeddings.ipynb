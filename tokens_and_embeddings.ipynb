{
 "cells": [
  {
   "cell_type": "markdown",
   "metadata": {},
   "source": [
    "# Tokenization and Embeddings"
   ]
  },
  {
   "cell_type": "code",
   "execution_count": 23,
   "metadata": {},
   "outputs": [],
   "source": [
    "import openai\n",
    "import os\n",
    "\n",
    "from dotenv import load_dotenv\n",
    "load_dotenv()\n",
    "\n",
    "from unstructured.partition.text import partition_text\n",
    "from langchain.text_splitter import RecursiveCharacterTextSplitter, SentenceTransformersTokenTextSplitter"
   ]
  },
  {
   "cell_type": "markdown",
   "metadata": {},
   "source": []
  },
  {
   "cell_type": "code",
   "execution_count": 32,
   "metadata": {},
   "outputs": [],
   "source": [
    "from unstructured.cleaners.core import group_broken_paragraphs\n",
    "elements = partition_text('data/Stein.txt', paragraph_grouper=group_broken_paragraphs)"
   ]
  },
  {
   "cell_type": "code",
   "execution_count": 33,
   "metadata": {},
   "outputs": [
    {
     "name": "stdout",
     "output_type": "stream",
     "text": [
      "Mr und Mrs Dursley im Ligusterweg Nummer 4 waren stolz darauf, ganz und gar normal zu sein, sehr stolz sogar. Niemand wäre auf die Idee gekommen, sie könnten sich in eine merkwürdige und geheimnisvolle Geschichte verstricken, denn mit solchem Unsinn wollten sie nichts zu tun haben. Mr Dursley war Direktor einer Firma namens Grunnings, die Bohrmaschinen herstellte. Er war groß und bullig und hatte fast keinen Hals, dafür aber einen sehr großen Schnurrbart. Mrs Dursley war dünn und blond und besaß doppelt so viel Hals, wie notwendig gewesen wäre, was allerdings sehr nützlich war, denn so konnte sie den Hals über den Gartenzaun recken und zu den Nachbarn hinüberspähen. Die Dursleys hatten einen kleinen Sohn namens Dudley und in ihren Augen gab es nirgendwo einen prächtigeren Jungen.\n",
      "\n",
      "Die Dursleys besaßen alles, was sie wollten, doch sie hatten auch ein Geheimnis, und dass es jemand aufdecken könnte, war ihre größte Sorge. Einfach unerträglich wäre es, wenn die Sache mit den Potters herauskommen würde. Mrs Potter war die Schwester von Mrs Dursley; doch die beiden hatten sich schon seit etlichen Jahren nicht mehr gesehen. Mrs Dursley behauptete sogar, dass sie gar keine Schwester hätte, denn diese und deren Nichtsnutz von einem Mann waren so undursleyhaft, wie man es sich nur denken konnte. Die Dursleys schauderten beim Gedanken daran, was die Nachbarn sagen würden, sollten die Potters eines Tages in ihrer Straße aufkreuzen. Die Dursleys wussten, dass auch die Potters einen kleinen Sohn hatten, doch den hatten sie nie gesehen. Auch dieser Junge war ein guter Grund, sich von den Potters fernzuhalten; mit einem solchen Kind sollte ihr Dudley nicht in Berührung kommen. Als Mr und Mrs Dursley an dem trüben und grauen Dienstag, an dem unsere Geschichte beginnt, die Augen aufschlugen, war an dem wolkenverhangenen Himmel draußen kein Vorzeichen der merkwürdigen und geheimnisvollen Dinge zu erkennen, die bald überall im Land geschehen sollten. Mr Dursley summte vor sich hin und suchte sich für die Arbeit seine langweiligste Krawatte aus, und Mrs Dursley schwatzte munter vor sich hin, während sie mit dem schreienden Dudley rangelte und ihn in seinen Hochstuhl zwängte. Keiner von ihnen sah den riesigen Waldkauz am Fenster vorbeifliegen.\n",
      "\n",
      "Um halb neun griff Mr Dursley nach der Aktentasche, gab seiner Frau einen Schmatz auf die Wange und versuchte es auch bei Dudley mit einem Abschiedskuss. Der ging jedoch daneben, weil Dudley gerade einen Wutanfall hatte und die Wände mit seinem Haferbrei bewarf. »Kleiner Schlingel«, gluckste Mr Dursley, während er nach draußen ging. Er setzte sich in den Wagen und fuhr rückwärts die Einfahrt zu Nummer 4 hinaus. An der Straßenecke fiel ihm zum ersten Mal etwas Merkwürdiges auf – eine Katze, die eine Straßenkarte studierte. Einen Moment war Mr Dursley nicht klar, was er gesehen hatte – dann wandte er rasch den Kopf zurück, um noch einmal hinzuschauen. An der Einbiegung zum Ligusterweg stand eine getigerte Katze, aber eine Straßenkarte war nicht zu sehen. Woran er nur wieder gedacht hatte! Das musste eine Sinnestäuschung gewesen sein. Mr Dursley blinzelte und starrte die Katze an. Die Katze starrte zurück. Während Mr Dursley um die Ecke bog und die Straße entlangfuhr, beobachtete er die Katze im Rückspiegel. Jetzt las sie das Schild mit dem Namen Ligusterweg – nein, sie blickte auf das Schild. Katzen konnten weder Karten nochSchilder lesen. Mr Dursley gab sich einen kleinen Ruck und verjagte die Katze aus seinen Gedanken. Während er in Richtung Stadt fuhr, hatte er nur noch den großen Auftrag für Bohrmaschinen im Sinn, der heute hoffentlich eintreffen würde. Doch am Stadtrand wurden die Bohrmaschinen von etwas anderem aus seinen Gedanken verdrängt.\n",
      "\n",
      "Er saß im üblichen morgendlichen Stau fest und konnte nicht umhin zu bemerken, dass offenbar eine Menge seltsam gekleideter Menschen unterwegs waren. Menschen in langen und weiten Umhängen. Mr Dursley konnte Leute nicht ausstehen, die sich komisch anzogen – wie sich die jungen Leute\n",
      "\n",
      "herausputzten! Das musste wohl irgendeine dumme neue Mode sein. Er trommelte mit den Fingern auf das Lenkrad und sein Blick fiel auf eine Ansammlung dieser merkwürdigen Gestalten nicht weit von ihm. Ganz aufgeregt flüsterten sie miteinander. Erzürnt stellte Mr Dursley fest, dass einige von ihnen überhaupt nicht jung waren; nanu, dieser Mann dort musste älter sein als er und trug einen smaragdgrünen Umhang! Der hatte vielleicht Nerven! Doch dann fiel Mr Dursley plötzlich ein, dass dies wohl eine verrückte Verkleidung sein musste – die Leute sammelten offenbar für irgendetwas … ja, so musste es sein. Die Autoschlange bewegte sich, und ein paar Minuten später fuhr Mr Dursley auf den Parkplatz seiner Firma, die Gedanken wieder bei den Bohrern. In seinem Büro im neunten Stock saß Mr Dursley immer mit dem Rücken zum Fenster. Andernfalls wäre es ihm an diesem Morgen schwergefallen, sich auf die Bohrer zu konzentrieren. Er bemerkte die Eulen nicht, die am helllichten Tage vorbeischossen, wohl aber die Leute unten auf der Straße; sie deuteten in die Lüfte und verfolgten mit offenen Mündern, wie eine Eule nach der andern über ihre Köpfe hinwegflog. Die meisten von ihnen hatten überhaupt noch nie eine gesehen, nicht einmal nachts. Mr Dursley jedoch verbrachte einen ganz gewöhnlichen, eulenfreien Morgen. Er machte fünf verschiedene Leute zur Schnecke. Er führte mehrere wichtige Telefongespräche und schrie dabei noch ein wenig lauter.\n",
      "\n",
      "Bis zur Mittagspause war er glänzender Laune und wollte sich nun ein wenig die Beine vertreten und beim Bäcker über der Straße einen Krapfen holen. Die Leute in der merkwürdigen Aufmachung hatte er schon längst vergessen, doch nun, auf dem Weg zum Bäcker, begegnete er einigen dieser Gestalten. Im Vorbeigehen warf er ihnen zornige Blicke zu. Er wusste nicht, warum, aber sie bereiteten ihm Unbehagen. Auch dieses Pack hier tuschelte ganz aufgeregt und eine Sammelbüchse war nirgends zu sehen. Auf dem Weg zurück vom Bäcker, eine Tüte mit einem großen Donut in der Hand, schnappte er ein paar Worte von ihnen auf. »Die Potters, das stimmt, das hab ich gehört –« »– ja, ihr Sohn, Harry –« Mr Dursley blieb wie angewurzelt stehen. Angst überkam ihn. Er wandte sich nach den Flüsterern um, als ob er ihnen etwas sagen wollte, besann sich dann aber eines Besseren. Hastig überquerte er die Straße, stürmte hoch ins Büro, fauchte seine Sekretärin an, er wolle nicht gestört werden, griff nach dem Telefon und hatte schon fast die Nummer von daheim gewählt, als er es sich anders überlegte. Er legte den Hörer auf die Gabel und strich sich über den Schnurrbart. Nein, dachte er, ich bin dumm. Potter war kein besonders ungewöhnlicher Name. Sicher gab es eine Menge Leute, die Potter hießen und einen Sohn namens Harry hatten. Nun, da er darüber nachdachte, war er sich nicht einmal mehr sicher, ob sein Neffe wirklich Harry hieß. Er hatte den Jungen noch nicht einmal gesehen. Er konnte auch Harvey heißen.\n",
      "\n",
      "Oder Harold. Es hatte keinen Sinn, Mrs Dursley zu beunruhigen, sie geriet immer so außer sich, wenn man ihre Schwester auch nur erwähnte. Er machte ihr\n",
      "\n",
      "deswegen keinen Vorwurf – wenn er eine solche Schwester hätte … Und dennoch, diese Leute in den Umhängen … An diesem Nachmittag fiel es ihm um einiges schwerer, seine Gedanken auf die Bohrer zu richten, und als er das Büro um fünf Uhr verließ, war er immer noch so voller Sorge, dass er beim ersten Schritt nach draußen gleich mit jemandem zusammenprallte. »Verzeihung«, grummelte er, als der kleine alte Mann ins Stolpern kam und beinahe hinfiel. Erst nach ein paar Sekunden bemerkte Mr Dursley, dass der Mann einen violetten Umhang trug. Dass er ihn fast umgestoßen hatte, schien ihn gar nicht weiter zu ärgern. Im Gegenteil, auf seinem Gesicht öffnete sich ein breites Lächeln, und die Leute, die vorbeigingen, blickten auf, als er mit piepsiger Stimme sagte: »Heute verzeih ich alles, mein lieber Herr, heute kann mich nichts aus der Bahn werfen! Freuen wir uns, denn Du-weißt-schon-wer ist endlich von uns gegangen! Selbst Muggel wie Sie sollten diesen freudigen, freudigen Tag feiern!« Und der alte Mann umarmte Mr Dursley ungefähr in Bauchhöhe und ging von dannen. Mr Dursley stand da wie angewurzelt. Ein völlig Fremder hatte ihn umarmt. Auch hatte er ihn wohl einen Muggel genannt, was immer das sein mochte. Völlig durcheinander eilte er zu seinem Wagen und fuhr nach Hause. Er hoffte, sich diese Dinge nur einzubilden, und das war neu für ihn, denn von Einbildungskraft hielt er normalerweise gar nichts.\n",
      "\n",
      "Als er in die Auffahrt von Nummer 4 einbog, fiel sein Blick als Erstes – und das besserte seine Laune nicht gerade – auf die getigerte Katze, die er am Morgen schon gesehen hatte. Sie saß jetzt auf seiner Gartenmauer. Gewiss war es dieselbe Katze; sie hatte dasselbe Muster um die Augen. »Schhhh!«, zischte Mr Dursley laut. Die Katze regte sich nicht. Sie blickte ihn nur aus ernsten Augen an. War so etwas denn normal für Katzen, fragte sich Mr Dursley. Er versuchte sich zusammenzureißen und öffnete die Haustür. Immer noch war er entschlossen, nichts von alledem seiner Frau zu sagen. Mrs Dursley hatte einen netten, gewöhnlichen Tag hinter sich. Beim Abendessen erzählte sie ihm alles über Frau Nachbarins Probleme mit deren Tochter und dass Dudley ein neues Wort gelernt hatte (»pfui«). Mr Dursley versuchte sich ganz wie immer zu geben. Nachdem Dudley zu Bett gebracht worden war, ging er ins Wohnzimmer, wo er sich das Neueste in den Abendnachrichten ansah. »Und hier noch eine Meldung. Wie die Vogelkundler im ganzen Land berichten, haben sich unsere Eulen heute sehr ungewöhnlich verhalten. Obwohl Eulen normalerweise nachts jagen und tagsüber kaum gesichtet werden, wurden diese Vögel seit Sonnenaufgang hunderte Male beobachtet, wie sie kreuz und quer über das Land hinwegflogen. Die Fachleute können sich nicht erklären, warum die Eulen plötzlich ihre Gewohnheiten geändert haben.« Der Nachrichtensprecher erlaubte\n",
      "\n",
      "sich ein Grinsen. »Sehr mysteriös. Und nun zu Jim McGuffin mit dem Wetter. Sind heute Abend noch weitere Eulenschauer zu erwarten, Jim?« »Nun, Ted«, meinte der Wetteransager, »das kann ich nicht sagen, aber es sind nicht nur die Eulen, die sich heute seltsam verhalten haben. Zuschauer aus so entfernten Gegenden wie Kent, Yorkshire und Dundee haben mich heute angerufen und berichtet, dass anstelle des Regens, den ich gestern versprochen hatte, ganze Schauer von Sternschnuppen niedergegangen sind! Vielleicht haben die Leute zu früh Silvester gefeiert – das ist noch eine Weile hin, meine Damen und Herren! Aber ich kann Ihnen für heute eine regnerische Nacht versprechen.« Mr Dursley saß starr wie ein Eiszapfen in seinem Sessel. Sternschnuppen über ganz Großbritannien? Eulen, die bei Tage flogen? Allerorten geheimnisvolle Leute in sonderbarer Kleidung? Und ein Tuscheln, ein Tuscheln über die Potters … Mrs Dursley kam mit zwei Tassen Tee ins Wohnzimmer. Es hatte keinen Zweck. Er musste ihr etwas sagen. Nervös räusperte er sich. »Ahm – Petunia, Liebes – du hast in letzter Zeit nichts von deiner Schwester gehört, oder?« Wie er befürchtet hatte, blickte ihn Mrs Dursley entsetzt und wütend an. Schließlich taten sie für gewöhnlich so, als hätte sie keine Schwester. »Nein«, sagte sie scharf. »Warum?« »Komisches Zeug in den Nachrichten«, murmelte Mr Dursley. »Eulen … Sternschnuppen … und heute waren eine Menge komisch aussehender Leute in der Stadt …« »Und?«, fuhr ihn Mrs Dursley an.\n"
     ]
    }
   ],
   "source": [
    "print(\"\\n\\n\".join([str(el) for el in elements][:10]))\n"
   ]
  },
  {
   "cell_type": "code",
   "execution_count": 35,
   "metadata": {},
   "outputs": [
    {
     "name": "stdout",
     "output_type": "stream",
     "text": [
      "\n",
      "Total chunks: 744\n"
     ]
    }
   ],
   "source": [
    "from langchain.text_splitter import RecursiveCharacterTextSplitter, SentenceTransformersTokenTextSplitter\n",
    "story_texts = [str(el) for el in elements]\n",
    "character_splitter = RecursiveCharacterTextSplitter(\n",
    "    separators=[\"\\n\\n\", \"\\n\", \". \", \" \", \"\"],\n",
    "    chunk_size=1000,\n",
    "    chunk_overlap=0\n",
    ")\n",
    "character_split_texts = character_splitter.split_text('\\n\\n'.join(story_texts))\n",
    "print(f\"\\nTotal chunks: {len(character_split_texts)}\")"
   ]
  },
  {
   "cell_type": "code",
   "execution_count": 55,
   "metadata": {},
   "outputs": [
    {
     "name": "stdout",
     "output_type": "stream",
     "text": [
      "\n",
      "Total chunks: 2\n",
      "27\n"
     ]
    }
   ],
   "source": [
    "token_splitter = SentenceTransformersTokenTextSplitter(chunk_overlap=0, tokens_per_chunk=128, model_name=\"paraphrase-multilingual-MiniLM-L12-v2\")\n",
    "\n",
    "token_split_texts = []\n",
    "for text in character_split_texts:\n",
    "    token_split_texts += token_splitter.split_text(text)\n",
    "\n",
    "print(f\"\\nTotal chunks: {len(token_split_texts)}\")\n",
    "print(len(token_split_texts[0]))"
   ]
  },
  {
   "cell_type": "code",
   "execution_count": 39,
   "metadata": {},
   "outputs": [
    {
     "name": "stdout",
     "output_type": "stream",
     "text": [
      "Mr und Mrs Dursley im Ligusterweg Nummer 4 waren stolz darauf, ganz und gar normal zu sein, sehr stolz sogar. Niemand wäre auf die Idee gekommen, sie könnten sich in eine merkwürdige und geheimnisvolle Geschichte verstricken, denn mit solchem Unsinn wollten sie nichts zu tun haben. Mr Dursley war Direktor einer Firma namens Grunnings, die Bohrmaschinen herstellte. Er war groß und bullig und hatte fast keinen Hals, dafür aber einen sehr großen Schnurrbart. Mrs Dursley war dünn und blond und besaß doppelt so viel Hals\n"
     ]
    }
   ],
   "source": [
    "print(token_split_texts[0])"
   ]
  },
  {
   "cell_type": "code",
   "execution_count": 42,
   "metadata": {},
   "outputs": [
    {
     "name": "stdout",
     "output_type": "stream",
     "text": [
      "Chunk 0: ['<s>', '▁Mr', '▁und', '▁Mrs', '▁Dur', 's', 'ley', '▁im', '▁Lig', 'u', 'ster', 'weg', '▁Nummer', '▁4', '▁waren', '▁stolz', '▁darauf', ',', '▁ganz', '▁und', '▁gar', '▁normal', '▁zu', '▁sein', ',', '▁sehr', '▁stolz', '▁sogar', '.', '▁Niemand', '▁wäre', '▁auf', '▁die', '▁Idee', '▁gekommen', ',', '▁sie', '▁könnten', '▁sich', '▁in', '▁eine', '▁merk', 'würdig', 'e', '▁und', '▁geheim', 'nis', 'volle', '▁Geschichte', '▁vers', 'trick', 'en', ',', '▁denn', '▁mit', '▁solche', 'm', '▁Un', 'sinn', '▁wollte', 'n', '▁sie', '▁nichts', '▁zu', '▁tun', '▁haben', '.', '▁Mr', '▁Dur', 's', 'ley', '▁war', '▁Direktor', '▁einer', '▁Firma', '▁namen', 's', '▁Grunn', 'ings', ',', '▁die', '▁Boh', 'r', 'maschine', 'n', '▁herstel', 'lte', '.', '▁Er', '▁war', '▁groß', '▁und', '▁bul', 'lig', '▁und', '▁hatte', '▁fast', '▁keinen', '▁Hal', 's', ',', '▁dafür', '▁aber', '▁einen', '▁sehr', '▁großen', '▁Sch', 'nur', 'r', 'bart', '.', '▁Mrs', '▁Dur', 's', 'ley', '▁war', '▁dün', 'n', '▁und', '▁blond', '▁und', '▁be', 'sa', 'ß', '▁doppelt', '▁so', '▁viel', '</s>']\n",
      "Chunk 1: ['<s>', '▁Die', '▁Dur', 's', 'ley', 's', '▁be', 'sa', 'ßen', '▁alles', ',', '▁was', '▁sie', '▁wollte', 'n', ',', '▁doch', '▁sie', '▁hatten', '▁auch', '▁ein', '▁Geheimnis', ',', '▁und', '▁dass', '▁es', '▁jemand', '▁auf', 'de', 'cken', '▁könnte', ',', '▁war', '▁ihre', '▁größte', '▁Sor', 'ge', '.', '▁Einfach', '▁un', 'er', 'träg', 'lich', '▁wäre', '▁es', ',', '▁wenn', '▁die', '▁Sache', '▁mit', '▁den', '▁Potter', 's', '▁heraus', 'kommen', '▁würde', '.', '▁Mrs', '▁Potter', '▁war', '▁die', '▁Schwester', '▁von', '▁Mrs', '▁Dur', 's', 'ley', ';', '▁doch', '▁die', '▁beiden', '▁hatten', '▁sich', '▁schon', '▁seit', '▁et', 'lichen', '▁Jahren', '▁nicht', '▁mehr', '▁gesehen', '.', '▁Mrs', '▁Dur', 's', 'ley', '▁behauptet', 'e', '▁sogar', ',', '▁dass', '▁sie', '▁gar', '▁keine', '▁Schwester', '▁hätte', ',', '▁denn', '▁diese', '▁und', '▁deren', '▁Nicht', 's', 'nut', 'z', '▁von', '▁einem', '▁Mann', '▁waren', '▁so', '▁und', 'urs', 'ley', 'haft', ',', '▁wie', '▁man', '▁es', '▁sich', '▁nur', '▁denken', '▁konnte', '.', '▁Die', '▁Dur', 's', 'ley', '</s>']\n"
     ]
    }
   ],
   "source": [
    "from sentence_transformers import SentenceTransformer, models\n",
    "model_name = \"paraphrase-multilingual-MiniLM-L12-v2\"\n",
    "model = SentenceTransformer(model_name)\n",
    "tokenized_chunks = []\n",
    "for text in character_split_texts[:2]:\n",
    "    # Tokenize each chunk\n",
    "    encoded_input = model.tokenizer(text, padding=True, truncation=True, max_length=128, return_tensors='pt')\n",
    "    # Convert token IDs back to tokens\n",
    "    tokens = model.tokenizer.convert_ids_to_tokens(encoded_input['input_ids'][0].tolist())\n",
    "    tokenized_chunks.append(tokens)\n",
    "\n",
    "# Print the tokenized chunks\n",
    "for i, tokens in enumerate(tokenized_chunks):\n",
    "    print(f\"Chunk {i}: {tokens}\")\n",
    "\n"
   ]
  },
  {
   "cell_type": "code",
   "execution_count": 51,
   "metadata": {},
   "outputs": [
    {
     "name": "stdout",
     "output_type": "stream",
     "text": [
      "Chunk 0: ['[CLS]', 'Your', 'first', 'te', '##xt', 'ch', '##unk', 'here', '.', '[SEP]']\n",
      "10\n",
      "Chunk 1: ['[CLS]', 'Your', 'sec', '##ond', 'te', '##xt', 'ch', '##unk', 'here', '.', '[SEP]']\n",
      "11\n"
     ]
    }
   ],
   "source": [
    "from sentence_transformers import SentenceTransformer, models\n",
    "model_name = \"Sahajtomar/German-semantic\"\n",
    "model = SentenceTransformer(model_name)\n",
    "tokenized_chunks = []\n",
    "for text in character_split_texts[:2]:\n",
    "    # Tokenize each chunk\n",
    "    encoded_input = model.tokenizer(text, padding=True, truncation=True, max_length=128, return_tensors='pt')\n",
    "    # Convert token IDs back to tokens\n",
    "    tokens = model.tokenizer.convert_ids_to_tokens(encoded_input['input_ids'][0].tolist())\n",
    "    tokenized_chunks.append(tokens)\n",
    "\n",
    "# Print the tokenized chunks\n",
    "for i, tokens in enumerate(tokenized_chunks):\n",
    "    print(f\"Chunk {i}: {tokens}\")\n",
    "    print(len(tokens))"
   ]
  },
  {
   "cell_type": "code",
   "execution_count": 52,
   "metadata": {},
   "outputs": [
    {
     "name": "stdout",
     "output_type": "stream",
     "text": [
      "[[0.23705792427062988, 0.17953404784202576, 0.008761091157793999, 0.06866278499364853, 0.18859246373176575, 0.025030042976140976, 0.20453552901744843, 0.0856434628367424, -0.12013310939073563, -0.1756037026643753, 0.21593599021434784, 0.17754752933979034, -0.06816255301237106, 0.15382297337055206, 0.03742352873086929, 0.02565864473581314, -0.03674404323101044, 0.09956962615251541, -0.11178182810544968, 0.01585395261645317, -0.14351488649845123, 0.03620703145861626, 0.03634040802717209, 0.13937081396579742, -0.014753739349544048, -0.17134839296340942, 0.10067982226610184, -0.0721849724650383, -0.09251675009727478, -0.20344743132591248, -0.0860968604683876, -0.11146057397127151, 0.20581139624118805, 0.06186888739466667, -0.06888921558856964, -0.021220432594418526, 0.2979533076286316, 0.14489932358264923, 0.14279508590698242, 0.23565231263637543, -0.1417035609483719, -0.10818491131067276, -0.12070940434932709, -0.00885545089840889, -0.026414407417178154, -0.1322002410888672, -0.0280905831605196, 0.09815040975809097, 0.03931824490427971, 0.06553632020950317, 0.13554047048091888, 0.17536409199237823, -0.054242249578237534, -0.205098956823349, -0.26512759923934937, -0.15006284415721893, -0.10254745185375214, -0.018741797655820847, 0.1669105440378189, -0.004472356755286455, -0.3169019818305969, -0.03597312793135643, -0.0726366937160492, 0.07698125392198563, 0.12751780450344086, -0.13135100901126862, -0.06140562519431114, -0.44067269563674927, 0.0255897119641304, 0.17291614413261414, 0.1933714747428894, 0.03660169243812561, 0.06774897873401642, 0.15370461344718933, 0.017081666737794876, -0.19761227071285248, -0.04478171095252037, -0.04873913526535034, -0.1591913104057312, -0.12881040573120117, -0.08358228951692581, -0.10283192247152328, 0.01772778294980526, 0.2133202850818634, -0.08831939846277237, -0.11745414137840271, -0.05493203178048134, -0.22575093805789948, -0.13106539845466614, -0.048776619136333466, -0.0929621085524559, 0.07944745570421219, -0.017902066931128502, 0.09143934398889542, 0.19834238290786743, -0.0067772953771054745, 0.18110547959804535, 0.25688859820365906, -0.04149726405739784, 0.03385911509394646, 0.13781403005123138, 0.06013474240899086, 0.2177610695362091, 0.3093416690826416, 0.12322942912578583, -0.1718781590461731, -0.022497912868857384, -0.18852122128009796, -0.011960627511143684, -0.09347304701805115, 0.21581041812896729, 0.015484725125133991, 0.08435435593128204, -0.0591416135430336, -0.0004778037837240845, -0.19590385258197784, -0.35408440232276917, 0.005563223734498024, -0.4847205877304077, 0.23939333856105804, -0.0058868215419352055, 0.1315809041261673, -0.13028156757354736, -0.017538199201226234, -0.08567016571760178, 0.08918747305870056, 0.20965029299259186, 0.18594048917293549, 0.07436446845531464, -0.10978760570287704, -0.2404843270778656, 0.08765263110399246, 0.15395334362983704, -0.1103416383266449, -0.09652923047542572, 0.043947476893663406, 0.24485129117965698, 0.04652416706085205, 0.006194887682795525, -0.08745986223220825, 0.09651070833206177, 0.2702135741710663, -0.03056483343243599, 0.09128791093826294, 0.062006935477256775, -0.008592733182013035, -0.19995702803134918, -0.08335121721029282, -0.11071188747882843, 0.014785200357437134, 0.025252776220440865, -0.03155943378806114, -0.13391828536987305, 0.18828849494457245, 0.001139707281254232, 0.03364187479019165, 0.42764514684677124, 0.1074371337890625, -0.02707284688949585, 0.04586492106318474, 0.3291519284248352, 0.3349491059780121, 0.06040319427847862, 0.018762337043881416, 0.2804573178291321, 0.03149399533867836, -0.11519312858581543, -0.01856275275349617, 0.20602276921272278, 0.06330858170986176, 0.1111309677362442, 0.0005249787354841828, -0.3101434111595154, 0.1529141366481781, -0.004218063782900572, 0.07399263232946396, -0.5291388034820557, 0.1800203174352646, 0.10218172520399094, -0.03902791440486908, -0.021402494981884956, -0.13578863441944122, -0.07303503900766373, -0.06709650903940201, 0.004047465045005083, -0.015055066905915737, 0.08048796653747559, 0.14192193746566772, 0.09973987936973572, 0.012577453628182411, 0.17692825198173523, 0.02336062118411064, 0.10463137924671173, -0.1967475861310959, -0.044521890580654144, 0.047116681933403015, 0.038120221346616745, 0.17165321111679077, 0.2200033962726593, 0.04027283191680908, -0.5142833590507507, -0.37510040402412415, -0.008918466046452522, -0.2496422529220581, -0.0990232527256012, 0.014451315626502037, 0.051393575966358185, -0.19964246451854706, 0.32524147629737854, 0.29966527223587036, -0.012258943170309067, -0.17876043915748596, -0.003020650241523981, -0.1592252105474472, 0.12381235510110855, 0.17435573041439056, -0.030412087216973305, 0.09599225223064423, 0.09422464668750763, -0.0670388713479042, 0.12201140820980072, -0.36873912811279297, -0.2521985173225403, -0.2685791254043579, -0.19258995354175568, 0.17529791593551636, 0.10038404911756516, 0.06675317883491516, -0.13382217288017273, 0.111595019698143, -0.1356418877840042, 0.10804376006126404, -0.0909169390797615, 0.004497462883591652, -0.14436380565166473, -0.018826179206371307, 0.08799701184034348, -0.12255978584289551, 0.08358948677778244, -0.0791599452495575, -0.12159562855958939, 0.12848563492298126, -0.16119924187660217, -0.02152569405734539, 0.33306220173835754, -0.062160275876522064, -0.05659583583474159, -0.07869643718004227, -0.06600429862737656, 0.23723295331001282, 0.09267330169677734, -0.13186389207839966, -0.41139328479766846, -0.025841230526566505, -0.1549948751926422, 0.02214808017015457, 0.11003239452838898, 0.2556959092617035, 0.07568132132291794, 0.43545961380004883, -0.24839989840984344, 0.2671705186367035, -0.045035216957330704, -0.11716866493225098, -0.15883797407150269, -0.09779667109251022, 0.06939364224672318, -0.010218430310487747, 0.15085361897945404, -0.22423364222049713, -0.25900548696517944, -0.065732941031456, -0.036849167197942734, -0.2622067928314209, -0.05450410395860672, 0.20877058804035187, -0.18645668029785156, -0.1250731498003006, -0.34192848205566406, 0.04124995321035385, -0.1296563595533371, -0.10364731401205063, 0.35844945907592773, -0.04979918524622917, 0.03649575263261795, -0.008668992668390274, -0.2422560751438141, -0.07440008968114853, 0.055041078478097916, 0.015365633182227612, -0.287014365196228, 0.024416502565145493, -0.13061925768852234, -0.015095233917236328, 0.0066717276349663734, -0.1863652914762497, 0.13738888502120972, 0.12047875672578812, -0.10376368463039398, 0.19360816478729248, -0.10011867433786392, 0.21560047566890717, -0.1708691567182541, -0.015627488493919373, 0.09907057881355286, -0.3202628791332245, 0.009883377701044083, 0.07186726480722427, -0.1231904923915863, 0.2265375852584839, -0.17276254296302795, -0.057661689817905426, -0.259846955537796, 0.31883546710014343, 0.23230378329753876, 0.09486013650894165, 0.181054025888443, 0.2400086224079132, 0.1596444696187973, -0.31066346168518066, -0.13665178418159485, -0.2734602093696594, -0.12769028544425964, 0.1245313435792923, 0.29637548327445984, 0.03779233992099762, 0.21711882948875427, 0.08640780299901962, -0.3366342782974243, 0.34591415524482727, -0.223129540681839, -0.10633332282304764, -0.02502414770424366, 0.11102943867444992, 0.29260969161987305, 0.12687818706035614, -0.14006586372852325, -0.061078693717718124, -0.1260209083557129, 0.013055171817541122, 0.1537930965423584, -0.0437532514333725, 0.21583381295204163, 0.06601960211992264, 0.032533470541238785, 0.135641410946846, -0.23312142491340637, -0.0976000428199768, 0.12810680270195007, 0.20642048120498657, -0.09706524759531021, 0.14182505011558533, -0.3755874037742615, -0.1732589602470398, 0.037736278027296066, -0.05970655009150505, -0.040829919278621674, -0.018335390836000443, 0.25773003697395325, -0.1636369526386261, -0.01195701863616705, -0.35499292612075806, 0.05599965900182724, 0.25156670808792114, 0.2491305023431778, -0.06941115111112595, 0.008019293658435345, 0.3101043105125427, -0.33332961797714233, -0.04147566482424736, -0.12548469007015228, 0.06984154134988785, 0.017519138753414154, 0.1822648048400879, 0.1525445580482483, -0.48182567954063416, 0.016696974635124207, 0.1006164699792862, -0.02581331506371498, -0.05467970296740532, 0.053890060633420944, 0.19228845834732056, -0.17925891280174255, 0.02065430022776127]]\n",
      "384\n",
      "Er saß im üblichen morgendlichen Stau fest und konnte nicht umhin zu bemerken, dass offenbar eine Menge seltsam gekleideter Menschen unterwegs waren. Menschen in langen und weiten Umhängen. Mr Dursley konnte Leute nicht ausstehen, die sich komisch anzogen – wie sich die jungen Leute\n"
     ]
    }
   ],
   "source": [
    "import chromadb\n",
    "from chromadb.utils.embedding_functions import SentenceTransformerEmbeddingFunction\n",
    "\n",
    "embedding_function = SentenceTransformerEmbeddingFunction(model_name=\"paraphrase-multilingual-MiniLM-L12-v2\")\n",
    "print(embedding_function([token_split_texts[10]]))\n",
    "print(len(embedding_function([token_split_texts[10]])[0]))\n",
    "print(token_split_texts[10])"
   ]
  },
  {
   "cell_type": "code",
   "execution_count": null,
   "metadata": {},
   "outputs": [],
   "source": [
    "chroma_client = chromadb.Client()\n",
    "chroma_collection = chroma_client.create_collection(\"attelsander_sample.pdf\", embedding_function=embedding_function)\n",
    "\n",
    "ids = [str(i) for i in range(len(token_split_texts))]\n",
    "\n",
    "chroma_collection.add(ids=ids, documents=token_split_texts)\n",
    "chroma_collection.count()"
   ]
  }
 ],
 "metadata": {
  "kernelspec": {
   "display_name": "venv",
   "language": "python",
   "name": "python3"
  },
  "language_info": {
   "codemirror_mode": {
    "name": "ipython",
    "version": 3
   },
   "file_extension": ".py",
   "mimetype": "text/x-python",
   "name": "python",
   "nbconvert_exporter": "python",
   "pygments_lexer": "ipython3",
   "version": "3.11.4"
  }
 },
 "nbformat": 4,
 "nbformat_minor": 2
}
